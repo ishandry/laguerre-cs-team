{
 "cells": [
  {
   "cell_type": "code",
   "execution_count": 46,
   "id": "61a8a3d8-73d6-48bd-ac1a-9c6cfb5b02e5",
   "metadata": {},
   "outputs": [],
   "source": [
    "import random\n",
    "import numpy as np\n",
    "import matplotlib.pyplot as plt\n",
    "%matplotlib widget\n",
    "from ipywidgets import interact, interactive, fixed, interact_manual, FloatSlider\n",
    "import ipywidgets as widgets\n"
   ]
  },
  {
   "cell_type": "code",
   "execution_count": 47,
   "id": "d43ce21b-f7b7-4266-9688-49e13f659ce7",
   "metadata": {},
   "outputs": [],
   "source": [
    " def f(t): \n",
    "    \n",
    "    if type(t) == int or type(t) == float:\n",
    "        if t >= 0 and t <= 2*np.pi:\n",
    "            return np.sin(t - np.pi/2) + 1\n",
    "        elif t >= 2*np.pi:\n",
    "            return 0\n",
    "        \n",
    "    else:\n",
    "        result = [np.sin(i - np.pi/2) + 1 if i >= 0 and i <= 2*np.pi else 0 for i in t]\n",
    "        return result\n",
    "    \n",
    "    \n",
    "def rectangle_integral(f, points, delta, lag_obj):\n",
    "    result = np.array([np.sum(np.multiply(f(points), lag_obj.laguerre_func(n = k, t = points)) * np.e**(-(lag_obj.alpha)*points) * delta) for k in range(lag_obj.N + 1)])\n",
    "    return result"
   ]
  },
  {
   "cell_type": "code",
   "execution_count": 48,
   "id": "f92da1bb-32a4-4839-a7e6-eac14868e5bb",
   "metadata": {},
   "outputs": [],
   "source": [
    "class Laguerre:\n",
    "\n",
    "    def __init__(self,beta, sigma, number_of_points, eps, T,N):\n",
    "        self.beta = beta\n",
    "        self.sigma = sigma\n",
    "        self.number_of_points = number_of_points\n",
    "        self.eps = eps\n",
    "        self.T = T\n",
    "        self.N = N\n",
    "        self.alpha = self.sigma - self.beta\n",
    "\n",
    "    \n",
    "    def check_type(self, t):\n",
    "        if type(t) == int or type(t) == float:\n",
    "            return t\n",
    "        else:\n",
    "            return t.any()\n",
    "        \n",
    "    def laguerre_func(self, t, n):  \n",
    "        \n",
    "        if self.check_type(t) < 0 and n < 0:\n",
    "            return print(\"You entered incorrect data.\")\n",
    "        \n",
    "        laguerre_result_0 = np.sqrt(self.sigma) * np.exp(t * (-self.beta / 2))\n",
    "        laguerre_result_1 = laguerre_result_0 * (1 - t * self.sigma)\n",
    "\n",
    "        if n == 0:\n",
    "            return laguerre_result_0\n",
    "        elif n == 1:\n",
    "            return laguerre_result_1\n",
    "        else:\n",
    "            for i in range(2, n+1):\n",
    "                laguerre_result_n = ((2 * i - 1 - t * self.sigma) / i) * laguerre_result_1 - ((i - 1) / i) * laguerre_result_0\n",
    "                laguerre_result_0 = laguerre_result_1\n",
    "                laguerre_result_1 = laguerre_result_n\n",
    "            return laguerre_result_n\n",
    "\n",
    "    def laguerre_tabulation(self, t, n):\n",
    "        laguerre_result_0 = self.laguerre_func(t, 0)\n",
    "        laguerre_result_1 = self.laguerre_func(t, 1)\n",
    "        list_of_lag = [laguerre_result_0, laguerre_result_1]\n",
    "        list_of_t_values = [i for i in range(0,t+1)]\n",
    "        for i in range(2, t+1):\n",
    "            laguerre_result_n = self.laguerre_func(t, i)\n",
    "            laguerre_result_0 = laguerre_result_1\n",
    "            laguerre_result_1 = laguerre_result_n\n",
    "            list_of_lag.append(laguerre_result_n)\n",
    "        return list_of_lag, list_of_t_values\n",
    "\n",
    "#             C# another func\n",
    "    def function_graph(self, fun, a, b, n,number_of_points):\n",
    "        fig = plt.figure(figsize=(7, 5))\n",
    "        ax = fig.gca()\n",
    "\n",
    "        x = np.linspace(a, b, number_of_points)\n",
    "\n",
    "        for i in range(n):\n",
    "            y = np.array([func_val for func_val in self.laguerre_func(x, i)])\n",
    "            ax.plot(x, y)\n",
    "\n",
    "        ax.axhline(color='grey')\n",
    "        ax.axvline(color='grey')\n",
    "        ax.set_xlim(a, b)\n",
    "        ax.set_xlabel('x')\n",
    "        ax.set_ylabel('lag_func(x)')\n",
    "        ax.grid()\n",
    "        plt.show()\n",
    "    \n",
    "    def transformation(self, func):\n",
    "        number_of_points = self.number_of_points\n",
    "        delt = (self.T) / (number_of_points - 1)\n",
    "        half_delta = delt / 2\n",
    "        ponts = np.linspace(0 + half_delta, self.T - half_delta, number_of_points - 1)\n",
    "        res_0 = np.array([0] * (self.N+1))\n",
    "        res_1 = rectangle_integral(f = func, points = ponts, delta = delt, lag_obj = self)\n",
    "            \n",
    "        while ((np.abs(res_0 - res_1)) > self.eps).any():\n",
    "            res_0 = res_1\n",
    "            number_of_points *= 2\n",
    "            delta_ = (self.T) / (number_of_points - 1)\n",
    "            half_delta = delta_ / 2\n",
    "            points_ = np.linspace(0 + half_delta, self.T - half_delta, number_of_points - 1)\n",
    "            res_1 = rectangle_integral(f = func, points = ponts, delta = delt, lag_obj = self)\n",
    "            \n",
    "        return res_1 \n",
    "            \n",
    "        \n",
    "    def inverse_Laguerre_transformation(self, t, func = f):\n",
    "        seq = self.transformation(f)\n",
    "        lag = [self.laguerre_func(t, i) for i in range(len(seq))]\n",
    "        h = sum(seq * lag)\n",
    "        \n",
    "        return h"
   ]
  },
  {
   "cell_type": "code",
   "execution_count": 49,
   "id": "ca79cc48-9222-4f56-8623-569c61a4020e",
   "metadata": {},
   "outputs": [],
   "source": [
    "def init_laguerre(t, beta, sigma, T, number_of_points, eps, N, n, a, b):\n",
    "    lag = Laguerre(beta, sigma, number_of_points, eps, T,N)\n",
    "    func = lag.laguerre_tabulation(t,n)\n",
    "    lag.function_graph(func, a, b, n, number_of_points)\n",
    "    print(lag.laguerre_func(t,n))\n",
    "    display(func)"
   ]
  },
  {
   "cell_type": "code",
   "execution_count": 50,
   "id": "f5696dfe-c0cd-4368-ae89-927bc1f11986",
   "metadata": {},
   "outputs": [],
   "source": [
    "def graph_for_transform_lag(lag_obj, func, N_arr, a, T=np.pi*2, num_of_pts = 300):\n",
    "        fig, (ax1, ax2) = plt.subplots(1,2,figsize=(10,3.5))\n",
    "        t = np.linspace(a, T, num_of_pts)\n",
    "        f_t = func(t)\n",
    "        ax1.plot(t, f_t, 'r')\n",
    "        ax1.set_title('function')\n",
    "        ax1.set_xlabel('x')\n",
    "        ax1.set_ylabel('f(x)')\n",
    "        \n",
    "        f_N = []\n",
    "        delta = (T-a)/(num_of_pts-1)\n",
    "        t_range = np.linspace(a + delta/2, T - delta/2, num_of_pts - 1)\n",
    "        temp_N = lag_obj.N\n",
    "        for n in N_arr:\n",
    "            lag_obj.N = n\n",
    "            f_N.append([lag_obj.inverse_Laguerre_transformation(t_, func) for t_ in t_range])\n",
    "        lag_obj.N = temp_N\n",
    "        for i in range(len(N_arr)):\n",
    "            ax2.plot(t_range, f_N[i], label=f'f {N_arr[i]} (x)')\n",
    "            \n",
    "        ax2.set_title('inverse laguerre transform')\n",
    "        ax2.set_xlabel('x')\n",
    "        ax2.set_ylabel('f(x)')\n",
    "        ax2.legend()\n",
    "        \n",
    "        plt.show()"
   ]
  },
  {
   "cell_type": "code",
   "execution_count": 51,
   "id": "dade9ddf-8e79-4fc7-9ce5-10f1c01b28f1",
   "metadata": {},
   "outputs": [],
   "source": [
    "t1, n1, beta1, sigma1, fun1, a1, b1, number_of_points1, eps1, T1, N1 = 5, 5, 2, 4, f, 0, 20, 100, 0.01, 15, 20\n",
    "t = widgets.IntText(description = \"t\", value = t1, min = 0, max = 50)\n",
    "beta = widgets.FloatText(description = \"beta\", value = beta1, min = 0, max = 20)\n",
    "sigma = widgets.FloatText(description = \"sigma\", value = sigma1,  min = beta, max = 20)\n",
    "N = widgets.IntSlider(description = \"N\", value = N1, min = 0, max = 50)\n",
    "n = widgets.IntSlider(description = \"n\", value = n1, min = 0, max = N.value)\n",
    "a = widgets.FloatText(description = \"a\", value = a1, min = -100, max = 99)\n",
    "b = widgets.FloatText(description = \"b\", value = b1, min = -99, max = 100)\n",
    "\n",
    "T = widgets.FloatText(description = \"T\", value = T1, min = 0, max = 100)\n",
    "number_of_points = widgets.IntText(description = \"points\", value = number_of_points1, min = 200, max = 3000, step = 50)\n",
    "eps = widgets.FloatText(description = \"eps\", value = eps1, min = 0, max = 1, step = 0.001)\n",
    "\n",
    "\n",
    "ui = widgets.VBox([t,beta,sigma,T, eps,N,n, number_of_points,a,b]) \n",
    "\n",
    "out = widgets.interactive_output(init_laguerre, {'t': t, 'n': n, 'beta': beta, 'sigma':sigma, 'eps':eps, 'N': N,'T':T, 'number_of_points':number_of_points, 'a':a, 'b':b})\n",
    "\n"
   ]
  },
  {
   "cell_type": "code",
   "execution_count": 52,
   "id": "34a95dea-d21b-4186-bcdc-1214c747adb3",
   "metadata": {},
   "outputs": [
    {
     "data": {
      "application/vnd.jupyter.widget-view+json": {
       "model_id": "bf6c6ed15f37413caebbc7364da7c2b6",
       "version_major": 2,
       "version_minor": 0
      },
      "text/plain": [
       "VBox(children=(IntText(value=5, description='t'), FloatText(value=2.0, description='beta'), FloatText(value=4.…"
      ]
     },
     "metadata": {},
     "output_type": "display_data"
    },
    {
     "data": {
      "application/vnd.jupyter.widget-view+json": {
       "model_id": "9490a8fc16074f1c8dae36a50e594c67",
       "version_major": 2,
       "version_minor": 0
      },
      "text/plain": [
       "Output(outputs=({'output_type': 'display_data', 'data': {'text/plain': \"Canvas(toolbar=Toolbar(toolitems=[('Ho…"
      ]
     },
     "metadata": {},
     "output_type": "display_data"
    }
   ],
   "source": [
    "\n",
    "\n",
    "display(ui, out)"
   ]
  },
  {
   "cell_type": "code",
   "execution_count": 53,
   "id": "2dd6a805-8d82-4c94-8ea3-71b3b4d36595",
   "metadata": {},
   "outputs": [],
   "source": [
    "lag1 = Laguerre(2, 4, 100, 0.001, 7,20)\n",
    "lag1.laguerre_func(7,5)\n",
    "delta = 7/100-1"
   ]
  },
  {
   "cell_type": "code",
   "execution_count": 54,
   "id": "4b44268f-2ce9-4f3c-9365-e31084b883fa",
   "metadata": {},
   "outputs": [
    {
     "data": {
      "text/plain": [
       "([0.0018237639311090325,\n",
       "  -0.04924162613994388,\n",
       "  0.614608444783744,\n",
       "  -4.679170325915408,\n",
       "  24.10468787746808,\n",
       "  -87.85447767364639,\n",
       "  228.83378017744135,\n",
       "  -415.0542623742489],\n",
       " [0, 1, 2, 3, 4, 5, 6, 7])"
      ]
     },
     "execution_count": 54,
     "metadata": {},
     "output_type": "execute_result"
    }
   ],
   "source": [
    "lag1.laguerre_tabulation(7,5)"
   ]
  },
  {
   "cell_type": "code",
   "execution_count": 55,
   "id": "3e93e897-29e4-48c7-8725-ed9b1ec0f7bb",
   "metadata": {},
   "outputs": [
    {
     "data": {
      "text/plain": [
       "array([ 6.66672110e-02, -1.82220945e-01,  1.78075891e-01, -7.42874309e-02,\n",
       "        7.26684948e-03,  7.59217418e-03, -3.09220726e-03, -6.09752598e-04,\n",
       "        8.05220698e-04, -1.96415649e-05, -2.29289515e-04,  5.96290848e-05,\n",
       "        1.01216127e-04, -2.30046315e-05, -4.47677978e-05,  1.90266083e-05,\n",
       "        4.43025371e-05,  1.27045526e-05, -1.52579595e-05, -6.84274844e-06,\n",
       "        1.66959289e-05])"
      ]
     },
     "execution_count": 55,
     "metadata": {},
     "output_type": "execute_result"
    }
   ],
   "source": [
    "lag1.transformation(f)"
   ]
  },
  {
   "cell_type": "code",
   "execution_count": 56,
   "id": "6c67c41f-98a3-4672-a8fc-522855372091",
   "metadata": {},
   "outputs": [
    {
     "data": {
      "text/plain": [
       "0.7148520247873785"
      ]
     },
     "execution_count": 56,
     "metadata": {},
     "output_type": "execute_result"
    }
   ],
   "source": [
    "lag1.inverse_Laguerre_transformation(5, f)"
   ]
  },
  {
   "cell_type": "code",
   "execution_count": null,
   "id": "07112b30-929e-4c6b-b823-775706b80652",
   "metadata": {},
   "outputs": [],
   "source": [
    "plt.close(\"all\")\n",
    "graph_for_transform_lag(lag1, f, [15,20,30,70], 0)"
   ]
  },
  {
   "cell_type": "code",
   "execution_count": null,
   "id": "b289ed13-ec27-44db-8251-3432ea43699c",
   "metadata": {},
   "outputs": [],
   "source": []
  },
  {
   "cell_type": "code",
   "execution_count": null,
   "id": "ae6b40ef-76ea-463c-9b90-3ebd6df10ad0",
   "metadata": {},
   "outputs": [],
   "source": []
  },
  {
   "cell_type": "code",
   "execution_count": null,
   "id": "bcc2342b",
   "metadata": {},
   "outputs": [],
   "source": []
  }
 ],
 "metadata": {
  "kernelspec": {
   "display_name": "Python 3 (ipykernel)",
   "language": "python",
   "name": "python3"
  },
  "language_info": {
   "codemirror_mode": {
    "name": "ipython",
    "version": 3
   },
   "file_extension": ".py",
   "mimetype": "text/x-python",
   "name": "python",
   "nbconvert_exporter": "python",
   "pygments_lexer": "ipython3",
   "version": "3.9.12"
  }
 },
 "nbformat": 4,
 "nbformat_minor": 5
}
